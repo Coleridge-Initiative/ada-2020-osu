{
 "cells": [
  {
   "cell_type": "markdown",
   "metadata": {},
   "source": [
    "## **OLDA data exploration using DBeaver**"
   ]
  },
  {
   "cell_type": "markdown",
   "metadata": {},
   "source": [
    "Rayid Ghani, Frauke Kreuter, Julia Lane, Brian Kim, Adrianne Bradford, Alex Engler, Nicolas Guetta Jeanrenaud, Graham Henke, Daniela Hochfellner, Clayton Hunter, Avishek Kumar, Jonathan Morgan, Ursula Kaczmarek, Benjamin Feder, Ekaterina Levitskaya, Lina Osorio-Copete, Tian Lou."
   ]
  },
  {
   "cell_type": "markdown",
   "metadata": {},
   "source": [
    "### 1. Open **DBeaver**\n",
    "<br>\n",
    "<img src=\"images/DBeaver_open_1.png\" />\n",
    "<br><br>"
   ]
  },
  {
   "cell_type": "markdown",
   "metadata": {},
   "source": [
    "#### 2. Expand the navigation window to explore the <kbd>**appliedda**</kbd> database and double click on <kbd>**schemas**</kbd>\n",
    "<br>\n",
    "<img src=\"images/Dbeaver_schemas_2.png\" />\n",
    "<br><br>"
   ]
  },
  {
   "cell_type": "markdown",
   "metadata": {},
   "source": [
    "#### 3. Scroll down within the ``Database Navigator`` and double click on the schema **``data_ohio_olda_2018``** to open the **ER Diagram**\n",
    "<br>\n",
    "<img src=\"images/Dbeaver_OLDA_3.png\" />\n",
    "<br><br>"
   ]
  },
  {
   "cell_type": "markdown",
   "metadata": {},
   "source": [
    "#### 4. Click on `properties` to get useful information such as the list of tables names that are included in **``data_ohio_olda_2018``** as well as the number of rows by each table\n",
    "<br>\n",
    "<img src=\"images/Dbeaver_OLDA_properties_4_1.png\" />\n",
    "<br><br>"
   ]
  },
  {
   "cell_type": "markdown",
   "metadata": {},
   "source": [
    "#### 5. Double click in one of the tables (e.g., **``oh_otc``**) to access its data, properties and the ER Diagram\n",
    "<br>\n",
    "<img src=\"images/Dbeaver_table_ otc_data_5_1.png\" />\n",
    "<br><br>"
   ]
  },
  {
   "cell_type": "markdown",
   "metadata": {},
   "source": [
    "#### 6. Open another table by clicking on the ``tables`` down arrow \n",
    "<br>\n",
    "<img src=\"images/Dbeaver_tables_6.png\" />\n",
    "<br><br>"
   ]
  },
  {
   "cell_type": "markdown",
   "metadata": {},
   "source": [
    "#### 7. Create a script. Click in ``New SQL Editor`` in the toolbar:\n",
    "<img src=\"images/Dbeaver_newSQLeditor_7.png\" />\n",
    "<br><br>"
   ]
  },
  {
   "cell_type": "markdown",
   "metadata": {},
   "source": [
    "#### 8. SQL select statement to display the list of tables included in the **``data_ohio_olda_2018``** schema\n",
    "<br>\n",
    "<img src=\"images/Dbeaver_ListTables_OLDA_8.png\" />\n",
    "<br>\n",
    "Press <strong><kbd>Ctrl+Enter</kbd></strong> to run the query. \n",
    "<br><br>"
   ]
  },
  {
   "cell_type": "markdown",
   "metadata": {},
   "source": [
    "#### 9. Save and rename the script. Select the script in the `project-General` window ...\n",
    " <br>\n",
    "<img src=\"images/Dbeaver_ListScripts_9.png\" />\n",
    "<br>\n",
    "\n",
    "<p>    ... and press <strong><kbd>F2</kbd></strong> and change the script default name</p>\n",
    "<br>\n",
    "<img src=\"images/Dbeaver_listtables_10.png\" />\n",
    "<br><br>"
   ]
  },
  {
   "cell_type": "markdown",
   "metadata": {},
   "source": [
    "#### 10. SQL select statement to display the list of variables on the ``oh_otc`` table\n",
    "<br>\n",
    "<img src=\"images/Dbeaver_oh_otc_columns_11.png\" />\n",
    "<br><br>"
   ]
  },
  {
   "cell_type": "markdown",
   "metadata": {},
   "source": [
    "#### 11. SQL select statement to display ``oh_otc`` data\n",
    "<br>\n",
    "<img src=\"images/select_oh_otc.png\" />\n",
    "<br><br>"
   ]
  },
  {
   "cell_type": "markdown",
   "metadata": {},
   "source": [
    "#### **Other SQL select statements to subset the ``oh_otc`` data**\n",
    "\n",
    "-- **How many students completed at least one course from an Ohio Technical Center (OTC) during 2015**\n",
    "\n",
    "    select distinct\n",
    "           course_end_date_y as year,\n",
    "           case \n",
    "           when course_end_date_m in (1,2,3) then 1\n",
    "           when course_end_date_m in (4,5,6) then 2\n",
    "           when course_end_date_m in (7,8,9) then 3\n",
    "           when course_end_date_m in (10,11,12) then 4\n",
    "           end as quarter, \n",
    "           count(ssn_hash) as num_completers\n",
    "    from data_ohio_olda_2018.oh_otc\n",
    "    where student_result = 1 and -- Completer\n",
    "      course_end_date_y = '2015'\n",
    "    group by course_end_date_y, quarter\n",
    "    order by quarter;\n",
    "   \n",
    "-- **Number of students by completion year and subject**\n",
    "\n",
    "    WITH course_subject as(\n",
    "                        SELECT ssn_hash, subject_desc, course_end_date_y \n",
    "                        FROM data_ohio_olda_2018.oh_otc as a \n",
    "                        JOIN data_ohio_olda_2018.oh_subject_codes_lkp as b \n",
    "                        ON a.hei_subject_code = b.subject_code\n",
    "                        where course_end_date_y  is not null and\n",
    "                        student_result = 1)\n",
    "    SELECT CASE \n",
    "           WHEN course_end_date_y = '20' THEN '2020'\n",
    "           WHEN course_end_date_y = '17' THEN '2017'\n",
    "           ELSE course_end_date_y\n",
    "           END as year, subject_desc, count(ssn_hash) as num_students\n",
    "    FROM course_subject\n",
    "    GROUP BY year, subject_desc\n",
    "    ORDER BY year, num_students desc;\n",
    "\n",
    "-- **Number of students by completion year and region**\n",
    "\n",
    "    select distinct case \n",
    "           when course_end_date_y = '20' then '2020'\n",
    "           when course_end_date_y = '17' then '2017'\n",
    "           else course_end_date_y\n",
    "           end as year, \n",
    "           case \n",
    "           when region = 1 then 'CentralOhio'\n",
    "           when region = 2 then 'NorthwestOhio' \n",
    "           when region = 4 then 'WestOhio'\n",
    "           when region = 5 then 'SouthwestOhio'\n",
    "           when region = 6 then 'NorthOhio'\n",
    "           when region = 7 then 'SouthOhio'\n",
    "           when region = 8 then 'NortheastOhio'\n",
    "           when region = 9 then 'EastOhio'\n",
    "           when region = 11 then 'SoutheastOhio'\n",
    "           end as region, count(ssn_hash) as num_students\n",
    "    from ada_20_osu.oh_otc\n",
    "    where region is not null and \n",
    "          course_end_date_y is not null and\n",
    "          student_result = 1\n",
    "    group by region, year\n",
    "    order by year, region;"
   ]
  },
  {
   "cell_type": "markdown",
   "metadata": {},
   "source": [
    "#### **Other data queries**\n",
    "\n",
    "-- **Number of enrolled students in Ohio community colleges by term**\n",
    "\n",
    "    SELECT enroll_yr_num as year, \n",
    "           enroll_term as term, \n",
    "           COUNT(ssn_hash) as num_students\n",
    "    FROM data_ohio_olda_2018.oh_hei_long as a\n",
    "    JOIN data_ohio_olda_2018.oh_hei_campus_county_lkp as b\n",
    "    ON a.enroll_campus = b.campus_num\n",
    "    WHERE enroll_campus is not null and \n",
    "          campus_type_code in ('TC', 'SC', 'CC') -- community colleges\n",
    "    GROUP BY enroll_yr_num, enroll_term\n",
    "    ORDER BY enroll_yr_num, enroll_term;\n",
    "    \n",
    "-- **How many Ohio students graduated from a community college in 2015?**\n",
    "\n",
    "    SELECT a.degcert_yr_earned as year, \n",
    "           a.degcert_term_earned as term, \n",
    "           COUNT(distinct(ssn_hash)) as num_students\n",
    "    FROM data_ohio_olda_2018.oh_hei_long as a\n",
    "    JOIN data_ohio_olda_2018.oh_hei_campus_county_lkp as b\n",
    "    ON a.degcert_campus = b.campus_num\n",
    "    WHERE degcert_campus is not null and\n",
    "          campus_type_code in ('TC', 'SC', 'CC') and -- community colleges\n",
    "          degcert_yr_earned = '2015'\n",
    "    GROUP BY degcert_yr_earned, degcert_term_earned\n",
    "    ORDER BY degcert_yr_earned, degcert_term_earned;\n",
    "\n",
    "-- **How many people that graduated from a community college in 2015 in OH were working in OH in 2016?**\n",
    "\n",
    "    with emp_oh as (select distinct(ssn_hash) as ssn\n",
    "                    from data_ohio_olda_2018.oh_ui_wage_by_quarter z\n",
    "                    where year = '2016'),\n",
    "         oh_cc_grad_2015 as (select distinct a.degcert_yr_earned as year, \n",
    "                                    a.degcert_term_earned as term, \n",
    "                                    a.ssn_hash as ssn\n",
    "                             from data_ohio_olda_2018.oh_hei_long a\n",
    "                             join data_ohio_olda_2018.oh_hei_campus_county_lkp b\n",
    "                             on a.degcert_campus = b.campus_num\n",
    "                             where degcert_campus is not null and\n",
    "                                  campus_type_code in ('TC', 'SC', 'CC') and\n",
    "                                  degcert_yr_earned = '2015')\n",
    "    select count(distinct(ssn))\n",
    "    from oh_cc_grad_2015\n",
    "    where ssn in (select ssn from emp_oh);\n",
    "  \n",
    "-- **How many students that graduated from a community college in 2015 in Ohio were working in Illinois in 2016?**\n",
    "\n",
    "    with emp_il as (\n",
    "                    select distinct(ssn)\n",
    "                    from (select * from il_des_kcmo.il_wage_2016q1\n",
    "                    union\n",
    "                    select * from il_des_kcmo.il_wage_2016q2\n",
    "                    union\n",
    "                    select * from il_des_kcmo.il_wage_2016q3\n",
    "                    union\n",
    "                    select * from il_des_kcmo.il_wage_2016q4) as a),\n",
    "         oh_cc_grad_2015 as (select distinct a.degcert_yr_earned as year, \n",
    "                                    a.degcert_term_earned as term, \n",
    "                                    a.ssn_hash as ssn\n",
    "                             from data_ohio_olda_2018.oh_hei_long a\n",
    "                             join data_ohio_olda_2018.oh_hei_campus_county_lkp b\n",
    "                             on a.degcert_campus = b.campus_num\n",
    "                             where degcert_campus is not null and\n",
    "                                  campus_type_code in ('TC', 'SC', 'CC') and \n",
    "                                  degcert_yr_earned = '2015')\n",
    "    select count(distinct(ssn)) as num_emp_il_2016\n",
    "    from oh_cc_grad_2015\n",
    "    where ssn in (select ssn from emp_il);\n",
    "\n",
    "Here's a link to a DBeaver [tutorial](https://github.com/dbeaver/dbeaver/wiki/Application-Window-Overview) if you would like additional resources."
   ]
  }
 ],
 "metadata": {
  "kernelspec": {
   "display_name": "Python 3",
   "language": "python",
   "name": "python3"
  },
  "language_info": {
   "codemirror_mode": {
    "name": "ipython",
    "version": 3
   },
   "file_extension": ".py",
   "mimetype": "text/x-python",
   "name": "python",
   "nbconvert_exporter": "python",
   "pygments_lexer": "ipython3",
   "version": "3.7.3"
  },
  "toc": {
   "nav_menu": {},
   "number_sections": true,
   "sideBar": true,
   "skip_h1_title": false,
   "toc_cell": false,
   "toc_position": {},
   "toc_section_display": "block",
   "toc_window_display": false
  }
 },
 "nbformat": 4,
 "nbformat_minor": 4
}
