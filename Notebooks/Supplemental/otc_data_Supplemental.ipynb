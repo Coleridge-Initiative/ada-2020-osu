{
 "cells": [
  {
   "cell_type": "markdown",
   "metadata": {},
   "source": [
    "<img style=\"float: center;\" src=\"images/CI_horizontal.png\" width=\"600\">\n",
    "<center>\n",
    "    <span style=\"font-size: 1.5em;\">\n",
    "        <a href='https://www.coleridgeinitiative.org'>Website</a>\n",
    "    </span>\n",
    "</center>\n",
    "\n",
    "Ghani, Rayid, Frauke Kreuter, Julia Lane, Brian Kim, Adrianne Bradford, Alex Engler, Nicolas Guetta Jeanrenaud, Graham Henke, Daniela Hochfellner, Clayton Hunter, Avishek Kumar, Jonathan Morgan, Ursula Kaczmarek, Benjamin Feder, Ekaterina Levitskaya, Tian Lou, Lina Osorio-Copete"
   ]
  },
  {
   "cell_type": "markdown",
   "metadata": {},
   "source": [
    "### **Employment outcomes of Ohio Technical Centers Trainees**"
   ]
  },
  {
   "cell_type": "markdown",
   "metadata": {},
   "source": [
    "**Datasets we will explore in this notebook:**\n",
    "- **Ohio Technical Center (OTC) data**: Ohio vocational training program enrollee information (demographic, course start and end month and year, credentials type and description, credential status).\n",
    "- **Ohio Unemployment Insurance (UI) Wage data**: Ohio workers' quarterly earnings and employment."
   ]
  },
  {
   "cell_type": "markdown",
   "metadata": {},
   "source": [
    "## Notebook Setup"
   ]
  },
  {
   "cell_type": "code",
   "execution_count": null,
   "metadata": {},
   "outputs": [],
   "source": [
    "# pandas-related imports\n",
    "import pandas as pd\n",
    "\n",
    "# Numpy\n",
    "import numpy as np\n",
    "\n",
    "# database interaction imports\n",
    "import sqlalchemy"
   ]
  },
  {
   "cell_type": "markdown",
   "metadata": {},
   "source": [
    "__Database Connection__"
   ]
  },
  {
   "cell_type": "code",
   "execution_count": null,
   "metadata": {
    "scrolled": true
   },
   "outputs": [],
   "source": [
    "# to create a connection to the database, \n",
    "# we need to pass the name of the database and host of the database\n",
    "\n",
    "host = 'stuffed.adrf.info'\n",
    "DB = 'appliedda'\n",
    "\n",
    "connection_string = \"postgresql://{}/{}\".format(host, DB)\n",
    "conn = sqlalchemy.create_engine(connection_string)"
   ]
  },
  {
   "cell_type": "markdown",
   "metadata": {},
   "source": [
    "### Pull Data from the Database\n",
    "\n",
    "Let's see what the `oh_otc` table looks like."
   ]
  },
  {
   "cell_type": "code",
   "execution_count": null,
   "metadata": {},
   "outputs": [],
   "source": [
    "query = '''\n",
    "SELECT *\n",
    "FROM data_ohio_olda_2018.oh_otc \n",
    "LIMIT 10\n",
    "'''"
   ]
  },
  {
   "cell_type": "code",
   "execution_count": null,
   "metadata": {},
   "outputs": [],
   "source": [
    "# here we pass the query and the connection to the pd.read_sql() function and assign the variable `df1`\n",
    "# to the dataframe returned by the function\n",
    "df1 = pd.read_sql(query, conn)"
   ]
  },
  {
   "cell_type": "code",
   "execution_count": null,
   "metadata": {},
   "outputs": [],
   "source": [
    "df1.head()"
   ]
  },
  {
   "cell_type": "markdown",
   "metadata": {},
   "source": [
    "> Each row of the `oh_otc` table represents a student's course enrollment. There are multiple rows per student if the student is taking more than one course, and there are numerous columns for credentials because it is possible to receive multiple credentials for a given course."
   ]
  },
  {
   "cell_type": "markdown",
   "metadata": {},
   "source": [
    "> Note that `fiscal_year` is the year the data was reported. In the later section, we will define how to identify the school year a student enrolled in/graduated from an institution. Ohio Technical Centers do not have a standarized academic term schedule so we will create a column for quarter from the course month."
   ]
  },
  {
   "cell_type": "markdown",
   "metadata": {},
   "source": [
    "## Summary Statistics"
   ]
  },
  {
   "cell_type": "markdown",
   "metadata": {},
   "source": [
    "__Motivating Question # 1__: How many OTC students completed a training during school year 2012-2013 by quarter? How does the number vary by subject and region?\n",
    "\n",
    "As mentioned above, because the information reported is by month, we need to create and exit quarter from the course end date month (`course_end_date_m`) as well as filtering the course end data year (`course_end_date_y`) to 2012-2013. In this case, you will need to limit the sample by using student results to select completers (`student_results`), and select distinct `ssn_hash` values by quarter.\n",
    "\n",
    "Following the same definition used in the [Data Exploration](01_2_Data_Exploration.ipynb) notebook that works with Ohio higher education records (Table `oh_hei_long`), we define **2012-13 school year** as the Summer and Autumn semesters of 2012 and the Winter and Spring semesters of 2013. In this case, you will need to limit the sample by using the a new variable for quarter created based on course end date month (`course_end_date_m`)."
   ]
  },
  {
   "cell_type": "markdown",
   "metadata": {},
   "source": [
    "Since we will be using this table to further subset to calculate employment outcomes, we will save the above SQL query in a temporary table."
   ]
  },
  {
   "cell_type": "code",
   "execution_count": null,
   "metadata": {},
   "outputs": [],
   "source": [
    "# store query to find 2012-2013 academic year graduates in a temporary table\n",
    "# The following query selects ssn_hashs, 2-digit subject codes based on 6 digits code, and quarters; \n",
    "# Subsets course completers by filtering student_result == 1, and filters the quarters needed \n",
    "# to subset the school year 2012-13.\n",
    "qry = '''\n",
    "create temp table otc_complet as\n",
    "with by_quarter as (select ssn_hash,\n",
    "                    left(hei_subject_code::text, 2) as sub_cod2,\n",
    "                    course_end_date_y as year,\n",
    "                    region,\n",
    "                    case \n",
    "                    when course_end_date_m in (1,2,3) then 1\n",
    "                    when course_end_date_m in (4,5,6) then 2\n",
    "                    when course_end_date_m in (7,8,9) then 3\n",
    "                    when course_end_date_m in (10,11,12) then 4\n",
    "                    end as quarter\n",
    "                    from data_ohio_olda_2018.oh_otc\n",
    "                    where student_result = 1) -- Completer\n",
    "select distinct ssn_hash, sub_cod2, year, region, quarter\n",
    "from by_quarter\n",
    "where (year = '2012' and (quarter = 3 or quarter = 4)) or \n",
    "    (year = '2013' and (quarter = 1 or quarter = 2));\n",
    "'''\n",
    "conn.execute(qry)"
   ]
  },
  {
   "cell_type": "code",
   "execution_count": null,
   "metadata": {},
   "outputs": [],
   "source": [
    "qry = '''\n",
    "select *\n",
    "from otc_complet\n",
    "'''\n",
    "df1 = pd.read_sql(qry,conn)\n",
    "df1.head()"
   ]
  },
  {
   "cell_type": "markdown",
   "metadata": {},
   "source": [
    "Using the temporary table `otc_complet`, you can join it to the lookup table `oh_subject_codes_lkp` to get subject descriptions, as well as to `oh_region_lookup` to get region names."
   ]
  },
  {
   "cell_type": "code",
   "execution_count": null,
   "metadata": {},
   "outputs": [],
   "source": [
    "# now create temp table because these are OTC completers of 2012_2013 to get corresponding subject descriptions and\n",
    "# region names\n",
    "qry = '''\n",
    "create temp table otc_comp_12_13 as\n",
    "select a.ssn_hash, a.year, a.quarter, lkp.subject_desc, lkp2.region_name \n",
    "from otc_complet a\n",
    "join data_ohio_olda_2018.oh_subject_codes_lkp lkp on a.sub_cod2::int = lkp.subject_code_2010::int\n",
    "join data_ohio_olda_2018.oh_region_lkp lkp2 on a.region = lkp2.otc_region_code;\n",
    "'''\n",
    "conn.execute(qry)"
   ]
  },
  {
   "cell_type": "markdown",
   "metadata": {},
   "source": [
    "At this point, you have properly subset the initial `oh_otc` table to just include completers from the 2012-13 academic year. From here, you can find the number of graduates. You will run through code chunks containing code.\n",
    "> To get to `otc_comp_12_13`, it is possible to combine the above queries into one larger one. However, for instructional purposes, we felt it would be more beneficial to show these steps in smaller chunks."
   ]
  },
  {
   "cell_type": "code",
   "execution_count": null,
   "metadata": {},
   "outputs": [],
   "source": [
    "#can find completers count one of two ways\n",
    "#find count by substituting * with count(*) in sql query\n",
    "qry = '''\n",
    "select count(distinct(ssn_hash))\n",
    "from otc_comp_12_13\n",
    "'''\n",
    "pd.read_sql(qry, conn)"
   ]
  },
  {
   "cell_type": "markdown",
   "metadata": {},
   "source": [
    "You've found the answer to the first part of this motivating question. Again, to find the subject breakdown of this completers subset you can work using Python and SQL commands."
   ]
  },
  {
   "cell_type": "code",
   "execution_count": null,
   "metadata": {},
   "outputs": [],
   "source": [
    "# find subject breakdown of graduates in sql\n",
    "qry = '''\n",
    "select subject_desc, count(distinct(ssn_hash)) as num_students\n",
    "from otc_comp_12_13\n",
    "group by subject_desc\n",
    "order by num_students desc\n",
    "'''\n",
    "pd.read_sql(qry, conn)"
   ]
  },
  {
   "cell_type": "markdown",
   "metadata": {},
   "source": [
    "Using SQL's `group by`, you can find the number of completers by region. We have done this for you and saved it to the temporary table `otc_comp_12_13`. "
   ]
  },
  {
   "cell_type": "code",
   "execution_count": null,
   "metadata": {},
   "outputs": [],
   "source": [
    "#selecting * from otc_comp_12_13 and assigning to df1\n",
    "qry = '''\n",
    "select ssn_hash, region_name\n",
    "from otc_comp_12_13\n",
    "'''\n",
    "df1 = pd.read_sql(qry, conn)"
   ]
  },
  {
   "cell_type": "code",
   "execution_count": null,
   "metadata": {},
   "outputs": [],
   "source": [
    "df1.groupby(['region_name'])['ssn_hash'].nunique().sort_values(ascending=False)"
   ]
  },
  {
   "cell_type": "markdown",
   "metadata": {},
   "source": [
    "__Motivating Question #2__: How many 2012-13 Ohio OTC completers are employed in Ohio one year after graduation? What are their employment patterns?\n",
    "\n",
    "In this example, we will join`otc_comp_12_13` to the Ohio UI wage data. We will examine:\n",
    "\n",
    "- How many people have positive earnings during all four quarters after graduation?\n",
    "- What are the earning distributions of graduates who have positive earnings during the first year after graduation?"
   ]
  },
  {
   "cell_type": "markdown",
   "metadata": {},
   "source": [
    "To answer the first question, you first need to pull out the data on OTC completers. For this exercise, the data is already subset on table `otc_comp_12_13`. In the next query, we join this data to table `oh_ui_wage_by_quarter` to obtain wages information."
   ]
  },
  {
   "cell_type": "code",
   "execution_count": null,
   "metadata": {},
   "outputs": [],
   "source": [
    "query = '''\n",
    "with ui_quarter as (\n",
    "                    select ssn_hash, year as year_ui, quarter as quarter_ui, sumwages, maxweeks\n",
    "                    from data_ohio_olda_2018.oh_ui_wage_by_quarter\n",
    "                    where (year = '2012' and quarter = 4) or\n",
    "                          (year = '2013') or\n",
    "                          (year = '2014' and quarter in (1,2)))\n",
    "select distinct a.ssn_hash, a.year as otc_year, a.quarter as otc_quarter, year_ui, quarter_ui, sumwages, maxweeks\n",
    "from otc_comp_12_13 as a\n",
    "join ui_quarter as b\n",
    "on a.ssn_hash = b.ssn_hash\n",
    "'''\n",
    "df12 = pd.read_sql(query, conn)"
   ]
  },
  {
   "cell_type": "markdown",
   "metadata": {},
   "source": [
    "To find exactly one year of employment history for every completer, the code becomes a bit complicated, since a completer may have completed their course at any point in the year. To isolate exactly a year's worth of potential employment, you can select the following fiscal quarters, depending on the time of completion."
   ]
  },
  {
   "cell_type": "markdown",
   "metadata": {},
   "source": [
    "**How do we want to calculate earnings during the first year after graduation for 2012-13 graduates?**\n",
    "```\n",
    "   Course Completion     Earnings during the first year after graduation\n",
    "   \n",
    "    2012_Q3                $2012_Q4+ $2013_Q1+ $2013_Q2+ $2013_Q3\n",
    "   \n",
    "   \n",
    "    2012_Q4                $2013_Q1+ $2013_Q2+ $2013_Q3+ $2013_Q4\n",
    "   \n",
    "   \n",
    "    2013_Q1                $2013_Q2+ $2013_Q3+ $2013_Q4+ $2014_Q1\n",
    "   \n",
    "   \n",
    "    2013_Q2                $2013_Q3+ $2013_Q4+ $2014_Q1+ $2014_Q2\n",
    "\n",
    "```"
   ]
  },
  {
   "cell_type": "code",
   "execution_count": null,
   "metadata": {},
   "outputs": [],
   "source": [
    "df12.head()"
   ]
  },
  {
   "cell_type": "code",
   "execution_count": null,
   "metadata": {},
   "outputs": [],
   "source": [
    "# adding a new column to count the number of quarters after completion in which the student has positive earnings\n",
    "df12['otc_yq'] = df12['otc_year'] + 'q' +df12['otc_quarter'].astype(str)\n",
    "df12['ui_yq'] = df12['year_ui'] + 'q' + df12['quarter_ui'].astype(str)\n",
    "# Sequence of quarters number starting on 2012 q3\n",
    "qrt_dictionary = {'2012q3':1, '2012q4':2, '2013q1':3, '2013q2':4, '2013q3':5, '2013q4':6, '2014q1':7, '2014q2':8}\n",
    "df12['otc_q_num'] = df12['otc_yq'].map(qrt_dictionary)\n",
    "df12['ui_q_num'] = df12['ui_yq'].map(qrt_dictionary)\n",
    "# Number of quarters after graduation\n",
    "df12['num_emp_quarter'] = df12['ui_q_num'] - df12['otc_q_num']\n",
    "df12"
   ]
  },
  {
   "cell_type": "code",
   "execution_count": null,
   "metadata": {},
   "outputs": [],
   "source": [
    "# Select only earnings from one term after completion and up to four terms after completion\n",
    "earn_1yr = df12[(df12.num_emp_quarter > 0) & (df12.num_emp_quarter < 5)]\n",
    "# insert a column of ones\n",
    "earn_1yr.insert(11,'emp', 1)\n",
    "earn_1yr"
   ]
  },
  {
   "cell_type": "markdown",
   "metadata": {},
   "source": [
    "### Adjusting earnings by annual inflation"
   ]
  },
  {
   "cell_type": "code",
   "execution_count": null,
   "metadata": {},
   "outputs": [],
   "source": [
    "def cpi_adj(year,wage):\n",
    "    \"\"\" Adjust annual earnings to 2017 dollars using\n",
    "        end of period CPI:\n",
    "    \"\"\"\n",
    "    ref = 247.847\n",
    "    if year == '2007':\n",
    "        return wage * ref/211.445\n",
    "    elif year == '2008':\n",
    "        return wage * ref/211.398\n",
    "    elif year == '2009':\n",
    "        return wage * ref/2017.347\n",
    "    elif year == '2010':\n",
    "        return wage * ref/220.472\n",
    "    elif year == '2011':\n",
    "        return wage * ref/227.223\n",
    "    elif year == '2012':\n",
    "        return wage * ref/229.594\n",
    "    elif year == '2013':\n",
    "        return wage * ref/232.957\n",
    "    elif year == '2014':\n",
    "        return wage * ref/236.252\n",
    "    elif year == '2015':\n",
    "        return wage * ref/237.761\n",
    "    elif year == '2016':\n",
    "        return wage * ref/242.712\n",
    "    elif year == '2017':\n",
    "        return wage\n",
    "    else:\n",
    "        return 'CPI undefined'"
   ]
  },
  {
   "cell_type": "code",
   "execution_count": null,
   "metadata": {},
   "outputs": [],
   "source": [
    "earn_1yr.dtypes"
   ]
  },
  {
   "cell_type": "code",
   "execution_count": null,
   "metadata": {},
   "outputs": [],
   "source": [
    "earn_1yr['sumwages_adj'] = earn_1yr.loc[:,('year_ui', 'sumwages')].apply(lambda x: cpi_adj(*x), axis = 1).round()\n",
    "earn_1yr"
   ]
  },
  {
   "cell_type": "code",
   "execution_count": null,
   "metadata": {},
   "outputs": [],
   "source": [
    "# Design of quarterly wages table\n",
    "\n",
    "emp_outcomes = earn_1yr.loc[:,('ssn_hash', 'otc_yq','num_emp_quarter', 'emp')].drop_duplicates()\n",
    "\n",
    "emp_outcomes_wages = earn_1yr.loc[:,('ssn_hash', 'otc_yq', 'sumwages_adj')].drop_duplicates().groupby(['ssn_hash', 'otc_yq'])['sumwages_adj'].sum()\n",
    "\n",
    "completers_emp_outcomes = emp_outcomes.pivot_table(index=['ssn_hash', 'otc_yq'], columns='num_emp_quarter', values='emp', fill_value = 0).sort_values('otc_yq')\n",
    "\n",
    "result = pd.concat([completers_emp_outcomes, emp_outcomes_wages], axis=1).reindex(completers_emp_outcomes.index)\n",
    "\n",
    "result.columns = ['q1', 'q2', 'q3', 'q4', 'sumwages_adj']\n",
    "\n",
    "result"
   ]
  },
  {
   "cell_type": "code",
   "execution_count": null,
   "metadata": {},
   "outputs": [],
   "source": [
    "# Number of completers during school year 2012-2013 that have positive earnings during all four quarters after completion\n",
    "full_emp = result.loc[((result['q1']==1) & (result['q2']==1) & (result['q3']==1) & (result['q4']==1))]\n",
    "full_emp.shape[0]"
   ]
  },
  {
   "cell_type": "code",
   "execution_count": null,
   "metadata": {},
   "outputs": [],
   "source": [
    "# Completers by quarter: completers during school year 2012-2013 that have positive earnings during all four quarters after completion\n",
    "full_emp.reset_index().groupby(['otc_yq'])['ssn_hash'].count()"
   ]
  },
  {
   "cell_type": "markdown",
   "metadata": {},
   "source": [
    "### Distribution of annual earnings after OCT course completion"
   ]
  },
  {
   "cell_type": "code",
   "execution_count": null,
   "metadata": {},
   "outputs": [],
   "source": [
    "# distribution of wages per person one year out\n",
    "full_emp['sumwages_adj'].describe().round(1)"
   ]
  },
  {
   "cell_type": "markdown",
   "metadata": {},
   "source": [
    "### Stable employment \n",
    "\n",
    "Student completers that entered stable employment are those with a job that will last for the first year after course completion"
   ]
  },
  {
   "cell_type": "code",
   "execution_count": null,
   "metadata": {},
   "outputs": [],
   "source": [
    "query = '''\n",
    "with ui_employer as (\n",
    "                    select ssn_hash, year as year_ui, quarter as quarter_ui, employer, wages\n",
    "                    from data_ohio_olda_2018.oh_ui_wage_by_employer\n",
    "                    where (year = '2012' and quarter = 4) or\n",
    "                          (year = '2013') or\n",
    "                          (year = '2014' and quarter in (1,2)) and\n",
    "                          employer_num = 1)\n",
    "select distinct a.ssn_hash, a.year as otc_year, a.quarter as otc_quarter, year_ui, quarter_ui, employer, wages\n",
    "from otc_comp_12_13 as a\n",
    "join ui_employer as b\n",
    "on a.ssn_hash = b.ssn_hash\n",
    "'''\n",
    "df12 = pd.read_sql(query, conn)"
   ]
  },
  {
   "cell_type": "code",
   "execution_count": null,
   "metadata": {},
   "outputs": [],
   "source": [
    "df12.head()"
   ]
  },
  {
   "cell_type": "code",
   "execution_count": null,
   "metadata": {},
   "outputs": [],
   "source": [
    "# add a new column to count the number of quarters after completion in which the student has positive earnings\n",
    "df12['otc_yq'] = df12['otc_year'] + 'q' + df12['otc_quarter'].astype(str)\n",
    "df12['ui_yq'] = df12['year_ui'] + 'q' + df12['quarter_ui'].astype(str)\n",
    "df12['otc_q_num'] = df12['otc_yq'].map(qrt_dictionary)\n",
    "df12['ui_q_num'] = df12['ui_yq'].map(qrt_dictionary)\n",
    "df12['num_emp_quarter'] = df12['ui_q_num'] - df12['otc_q_num']\n",
    "df12"
   ]
  },
  {
   "cell_type": "code",
   "execution_count": null,
   "metadata": {},
   "outputs": [],
   "source": [
    "# Select only earnings from one term after completion and up to four terms after completion\n",
    "employers = df12[(df12.num_emp_quarter > 0) & (df12.num_emp_quarter < 5)]\n",
    "employers.insert(11,'emp', 1)\n",
    "employers"
   ]
  },
  {
   "cell_type": "code",
   "execution_count": null,
   "metadata": {},
   "outputs": [],
   "source": [
    "# Selecting employer code that pays max wage by quarter\n",
    "res = employers.pivot_table(index=['ssn_hash', 'otc_yq'], columns='num_emp_quarter', values='employer', fill_value = 0).sort_values('otc_yq').round()\n",
    "res.columns = ['emp_max_wage_q1', 'emp_max_wage_q2', 'emp_max_wage_q3', 'emp_max_wage_q4']\n",
    "res"
   ]
  },
  {
   "cell_type": "code",
   "execution_count": null,
   "metadata": {},
   "outputs": [],
   "source": [
    "# Select only completers with same employer all four quarters after completion\n",
    "stable_emp =res[res.apply(lambda x: min(x)==max(x), 1)]\n",
    "stable_emp"
   ]
  },
  {
   "cell_type": "code",
   "execution_count": null,
   "metadata": {},
   "outputs": [],
   "source": [
    "stable_emp.shape[0]"
   ]
  },
  {
   "cell_type": "markdown",
   "metadata": {},
   "source": [
    "#### Stable employment as retention from Q2 to Q4 after completion\n",
    "\n",
    "- Number of completers who are employed two and four quarters after completion \n",
    "\n",
    "- Number of completers employed two quarters after completion who are employed with the same employer four quarters after completion"
   ]
  },
  {
   "cell_type": "code",
   "execution_count": null,
   "metadata": {},
   "outputs": [],
   "source": [
    "# Number of students with stable employment under the first definition\n",
    "\n",
    "# Number of completers during school year 2012-2013 that have positive earnings \n",
    "# two and four quarters after course completion\n",
    "result.loc[((result['q2']==1) & (result['q4']==1))].shape[0]"
   ]
  },
  {
   "cell_type": "code",
   "execution_count": null,
   "metadata": {},
   "outputs": [],
   "source": [
    "# Number of students with stable employment under the second definition\n",
    "\n",
    "# Number of completers during school year 2012-2013 that have the same employer\n",
    "# two and four quarters after course completion\n",
    "res.loc[(res['emp_max_wage_q2']==res['emp_max_wage_q4'])].shape[0]"
   ]
  }
 ],
 "metadata": {
  "kernelspec": {
   "display_name": "py3-ada",
   "language": "python",
   "name": "py3-ada"
  },
  "language_info": {
   "codemirror_mode": {
    "name": "ipython",
    "version": 3
   },
   "file_extension": ".py",
   "mimetype": "text/x-python",
   "name": "python",
   "nbconvert_exporter": "python",
   "pygments_lexer": "ipython3",
   "version": "3.8.3"
  },
  "toc": {
   "nav_menu": {},
   "number_sections": false,
   "sideBar": true,
   "skip_h1_title": false,
   "toc_cell": true,
   "toc_position": {
    "height": "566px",
    "left": "0px",
    "right": "954px",
    "top": "110px",
    "width": "179px"
   },
   "toc_section_display": "none",
   "toc_window_display": false
  }
 },
 "nbformat": 4,
 "nbformat_minor": 4
}
