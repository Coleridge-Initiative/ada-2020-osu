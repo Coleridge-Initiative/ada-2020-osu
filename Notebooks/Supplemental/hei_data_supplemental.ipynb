{
 "cells": [
  {
   "cell_type": "code",
   "execution_count": null,
   "metadata": {},
   "outputs": [],
   "source": [
    "# pandas-related imports\n",
    "import pandas as pd\n",
    "\n",
    "# Numpy\n",
    "import numpy as np\n",
    "\n",
    "# database interaction imports\n",
    "import sqlalchemy"
   ]
  },
  {
   "cell_type": "code",
   "execution_count": null,
   "metadata": {
    "scrolled": true
   },
   "outputs": [],
   "source": [
    "# to create a connection to the database, \n",
    "# we need to pass the name of the database and host of the database\n",
    "\n",
    "host = 'stuffed.adrf.info'\n",
    "DB = 'appliedda'\n",
    "\n",
    "connection_string = \"postgresql://{}/{}\".format(host, DB)\n",
    "conn = sqlalchemy.create_engine(connection_string)"
   ]
  },
  {
   "cell_type": "markdown",
   "metadata": {},
   "source": [
    "# Number of Community college graduates by rural/urban county of residency"
   ]
  },
  {
   "cell_type": "code",
   "execution_count": null,
   "metadata": {},
   "outputs": [],
   "source": [
    "# store query to find 2012-13 academic year graduates in a temporary table\n",
    "# use conn.execute instead of pd.read_sql because there is no output\n",
    "qry = '''\n",
    "create temp table all_grads as\n",
    "select a.*, b.cnty_code\n",
    "from data_ohio_olda_2018.oh_hei_long a\n",
    "join data_ohio_olda_2018.oh_hei_demo b on a.ssn_hash=b.ssn_hash \n",
    "where (degcert_yr_earned = '2012' and (degcert_term_earned = '4' or degcert_term_earned = '1')) or \n",
    "    (degcert_yr_earned = '2013' and (degcert_term_earned = '2' or degcert_term_earned = '3'))\n",
    "'''\n",
    "conn.execute(qry)"
   ]
  },
  {
   "cell_type": "markdown",
   "metadata": {},
   "source": [
    "> Definition of rural counties: Nonmetro - Urban population of 20,000 or more, not adjacent to a metro area                                              \n",
    "> Definition of urban counties: Metro - Counties in metro areas of 1 million population or more                                                                                                                                         "
   ]
  },
  {
   "cell_type": "code",
   "execution_count": null,
   "metadata": {},
   "outputs": [],
   "source": [
    "# need to join all_grads to the oh_hei_campus_county_lkp lookup table\n",
    "                            # oh_region_county_lkp lookup table\n",
    "                            # and the public.usda_rural_urban_codes_2013\n",
    "qry = '''\n",
    "with grad_community_college as (select ssn_hash, cnty_code\n",
    "\t\t\t\t\tfrom all_grads a\n",
    "\t\t\t\t\tjoin data_ohio_olda_2018.oh_hei_campus_county_lkp lkp on a.degcert_campus = lkp.campus_num\n",
    "\t\t\t\t\twhere lkp.campus_type_code in ('TC', 'SC', 'CC')),\n",
    "\t rural_urban as (select right(fips, 3)::int as fips, county_name, \n",
    "                     case\n",
    "                     when m_nm = 'True' then 'Urban'\n",
    "                     when m_nm = 'False' then 'Rural'\n",
    "                     end urban_rural\n",
    "\t\t\t\t\tfrom public.usda_rural_urban_codes_2013 \n",
    "\t\t\t\t\twhere state = 'OH')\n",
    "select distinct a.ssn_hash, urban_rural, b.county_name\n",
    "from grad_community_college a\n",
    "join rural_urban b on a.cnty_code = b.fips;\n",
    "'''\n",
    "df=pd.read_sql(qry, conn)"
   ]
  },
  {
   "cell_type": "code",
   "execution_count": null,
   "metadata": {},
   "outputs": [],
   "source": [
    "# List of graduates by county of residency rural/urban classification\n",
    "df"
   ]
  },
  {
   "cell_type": "code",
   "execution_count": null,
   "metadata": {},
   "outputs": [],
   "source": [
    "# find number of graduates by urban or rural county of residency\n",
    "df.groupby(['urban_rural'])['ssn_hash'].nunique()"
   ]
  },
  {
   "cell_type": "markdown",
   "metadata": {},
   "source": [
    "# Community college on-time graduation, late graduation, and dropouts"
   ]
  },
  {
   "cell_type": "markdown",
   "metadata": {},
   "source": [
    "This section describes the process for determining which college students are on-time graduates vs. late graduates and dropouts. Overall the steps are:\n",
    "1. Select 2010-11 community college enrolles from the full population of higher education students.\n",
    "2. Find first-time enrollment from school year 2010-2011 for each student\n",
    "3. Merge the 2010-11 enrollee table with the table of community college graduates to find the first instance of an earned award\n",
    "4. Caterorize graduates as those who graduated within 2 years of their first enrollment vs. graduated in more than 2 years\n",
    "5. Categorize the remaining enrolles as dropouts <br>\n",
    "<br>\n",
    "This procedure does not apply to Ohio Technical Center students. The OTC data includes a `student_result` column which indicates whether ot not the students completed the course or not."
   ]
  },
  {
   "cell_type": "markdown",
   "metadata": {},
   "source": [
    "### First-time enrollment during school year 2010-2011"
   ]
  },
  {
   "cell_type": "code",
   "execution_count": null,
   "metadata": {},
   "outputs": [],
   "source": [
    "qry = ''' create temp table comm_coll as ( \n",
    "with cc as (select distinct ssn_hash, enroll_campus, enroll_yr_num,\n",
    "                           case when a.enroll_term = 2 then 1\n",
    "                            when a.enroll_term = 3 then 2\n",
    "                            when a.enroll_term = 4 then 3\n",
    "                            when a.enroll_term = 1 then 4\n",
    "                            end as enroll_quarter,\n",
    "                            case when enroll_term = 4 THEN\n",
    "                            format('%%s-%%s-01', enroll_yr_num, 7)::date \n",
    "                            when enroll_term = 1 THEN\n",
    "                            format('%%s-%%s-01', enroll_yr_num, 10)::date \n",
    "                            when enroll_term = 2 THEN\n",
    "                            format('%%s-%%s-01', enroll_yr_num, 1)::date \n",
    "                            when enroll_term = 3 THEN\n",
    "                            format('%%s-%%s-01', enroll_yr_num, 4)::date \n",
    "                            end as enroll_date\n",
    "            from data_ohio_olda_2018.oh_hei_long as a\n",
    "            where (enroll_yr_num = '2011' and (enroll_term = '1' or enroll_term = '2')) or \n",
    "            enroll_yr_num < '2011')\n",
    "select  ssn_hash, enroll_date, enroll_yr_num, enroll_quarter\n",
    "from cc\n",
    "join data_ohio_olda_2018.oh_hei_campus_county_lkp lkp on enroll_campus = lkp.campus_num\n",
    "where lkp.campus_type_code in ('TC', 'SC', 'CC'))\n",
    ";\n",
    "'''\n",
    "\n",
    "conn.execute(qry)"
   ]
  },
  {
   "cell_type": "code",
   "execution_count": null,
   "metadata": {},
   "outputs": [],
   "source": [
    "## First enrollment school year 2010-2011\n",
    "qry = '''\n",
    "select distinct ssn_hash, min(enroll_date) as enroll_date\n",
    "from comm_coll\n",
    "where (enroll_yr_num = '2011' and (enroll_quarter = 1 or enroll_quarter = 2)) or \n",
    "      (enroll_yr_num = '2010' and (enroll_quarter = 3 or enroll_quarter = 4))\n",
    "group by ssn_hash;\n",
    "'''\n",
    "df1 = pd.read_sql(qry, conn)"
   ]
  },
  {
   "cell_type": "code",
   "execution_count": null,
   "metadata": {},
   "outputs": [],
   "source": [
    "# Count of students with first enrollment date during school year 2010-2011\n",
    "df1.ssn_hash.nunique()"
   ]
  },
  {
   "cell_type": "code",
   "execution_count": null,
   "metadata": {},
   "outputs": [],
   "source": [
    "# Count of students with first enrollment date during school year 2010-2011 by date\n",
    "df1.groupby(['enroll_date'])['ssn_hash'].count()"
   ]
  },
  {
   "cell_type": "markdown",
   "metadata": {},
   "source": [
    "### Community College graduates"
   ]
  },
  {
   "cell_type": "code",
   "execution_count": null,
   "metadata": {},
   "outputs": [],
   "source": [
    "# store query to find graduate students in community college in a temporary table\n",
    "# use conn.execute instead of pd.read_sql because there is no output\n",
    "qry = '''\n",
    "select distinct a.ssn_hash,\n",
    "\t   a.degcert_yr_earned,\n",
    "       case when a.degcert_term_earned = 2 then 1\n",
    "            when a.degcert_term_earned = 3 then 2\n",
    "            when a.degcert_term_earned = 4 then 3\n",
    "            when a.degcert_term_earned = 1 then 4\n",
    "            end as degcert_quarter_earned,\n",
    "       case when a.degcert_term_earned = 4 then\n",
    "                format('%%s-%%s-01', degcert_yr_earned, 7)::date \n",
    "            when a.degcert_term_earned = 1 then\n",
    "                format('%%s-%%s-01', degcert_yr_earned, 10)::date \n",
    "            when a.degcert_term_earned = 2 then\n",
    "                format('%%s-%%s-01', degcert_yr_earned, 1)::date \n",
    "            when a.degcert_term_earned = 3 then\n",
    "                format('%%s-%%s-01', degcert_yr_earned, 4)::date \n",
    "            end as deg_date\n",
    "from data_ohio_olda_2018.oh_hei_long as a\n",
    "join data_ohio_olda_2018.oh_hei_campus_county_lkp lkp2 on a.degcert_campus = lkp2.campus_num\n",
    "where lkp2.campus_type_code in ('TC', 'SC', 'CC') and \n",
    "      (degcert_yr_earned = '2010' and degcert_term_earned in ('1', '2')) or \n",
    "      degcert_yr_earned > '2010';\n",
    "'''\n",
    "\n",
    "df2 = pd.read_sql(qry, conn)\n",
    "df2.head()"
   ]
  },
  {
   "cell_type": "markdown",
   "metadata": {},
   "source": [
    "### First graduation date, after first-time enrollment"
   ]
  },
  {
   "cell_type": "code",
   "execution_count": null,
   "metadata": {},
   "outputs": [],
   "source": [
    "# Merging enrollees and graduates in/from community colleges\n",
    "enroll_grad = pd.merge(df1, df2, left_on = ('ssn_hash'), right_on = ('ssn_hash'), how = 'left')\n",
    "enroll_grad['id'] = 1 "
   ]
  },
  {
   "cell_type": "code",
   "execution_count": null,
   "metadata": {},
   "outputs": [],
   "source": [
    "first_grad = enroll_grad.fillna(-1).groupby(['ssn_hash'])['deg_date'].min()"
   ]
  },
  {
   "cell_type": "code",
   "execution_count": null,
   "metadata": {},
   "outputs": [],
   "source": [
    "first_grad = pd.DataFrame(first_grad).reset_index()"
   ]
  },
  {
   "cell_type": "code",
   "execution_count": null,
   "metadata": {},
   "outputs": [],
   "source": [
    "first_enr_grad = pd.merge(first_grad, enroll_grad, how = 'left')"
   ]
  },
  {
   "cell_type": "code",
   "execution_count": null,
   "metadata": {},
   "outputs": [],
   "source": [
    "first_enr_grad = first_enr_grad[first_enr_grad.deg_date != -1]"
   ]
  },
  {
   "cell_type": "code",
   "execution_count": null,
   "metadata": {},
   "outputs": [],
   "source": [
    "first_enr_grad.shape"
   ]
  },
  {
   "cell_type": "markdown",
   "metadata": {},
   "source": [
    "### Merge first-time enrollment with first graduation date"
   ]
  },
  {
   "cell_type": "code",
   "execution_count": null,
   "metadata": {},
   "outputs": [],
   "source": [
    "first_enr_grad['deg_date'] = first_enr_grad['deg_date'].astype('datetime64[ns]')\n",
    "first_enr_grad['enroll_date'] = first_enr_grad['enroll_date'].astype('datetime64[ns]')"
   ]
  },
  {
   "cell_type": "code",
   "execution_count": null,
   "metadata": {},
   "outputs": [],
   "source": [
    "first_enr_grad"
   ]
  },
  {
   "cell_type": "code",
   "execution_count": null,
   "metadata": {},
   "outputs": [],
   "source": [
    "# Number of years enrolled before graduation\n",
    "first_enr_grad['yr_before_grad'] = (first_enr_grad.loc[:,'deg_date'] - first_enr_grad.loc[:,'enroll_date']).astype('timedelta64[Y]')\n",
    "# Eliminating graduation from programs that started before school year 2010-2011\n",
    "first_enr_grad = first_enr_grad.loc[first_enr_grad.yr_before_grad >=0]"
   ]
  },
  {
   "cell_type": "code",
   "execution_count": null,
   "metadata": {},
   "outputs": [],
   "source": [
    "first_enr_grad"
   ]
  },
  {
   "cell_type": "code",
   "execution_count": null,
   "metadata": {},
   "outputs": [],
   "source": [
    "# Classifying graduates\n",
    "grad_groups = first_enr_grad.loc[:,('ssn_hash', 'yr_before_grad')]\n",
    "grad_groups['college_graduation'] = 'NULL'\n",
    "grad_groups.loc[(first_enr_grad.yr_before_grad <= 2), 'college_graduation'] = '2yrs_or_less'\n",
    "grad_groups.loc[(first_enr_grad.yr_before_grad > 2), 'college_graduation'] = 'more_than_2yrs'"
   ]
  },
  {
   "cell_type": "code",
   "execution_count": null,
   "metadata": {},
   "outputs": [],
   "source": [
    "grad_groups"
   ]
  },
  {
   "cell_type": "code",
   "execution_count": null,
   "metadata": {},
   "outputs": [],
   "source": [
    "# Adding dropouts\n",
    "enr_grad_10_11 = pd.merge(df1, grad_groups, how = 'left')"
   ]
  },
  {
   "cell_type": "code",
   "execution_count": null,
   "metadata": {},
   "outputs": [],
   "source": [
    "# Community college students that didn't graduate\n",
    "enr_grad_10_11 = enr_grad_10_11.fillna(value={'college_graduation': 'dropouts'})"
   ]
  },
  {
   "cell_type": "code",
   "execution_count": null,
   "metadata": {},
   "outputs": [],
   "source": [
    "enr_grad_10_11.groupby(['college_graduation'])['ssn_hash'].count()"
   ]
  }
 ],
 "metadata": {
  "kernelspec": {
   "display_name": "py3-ada",
   "language": "python",
   "name": "py3-ada"
  },
  "language_info": {
   "codemirror_mode": {
    "name": "ipython",
    "version": 3
   },
   "file_extension": ".py",
   "mimetype": "text/x-python",
   "name": "python",
   "nbconvert_exporter": "python",
   "pygments_lexer": "ipython3",
   "version": "3.8.3"
  }
 },
 "nbformat": 4,
 "nbformat_minor": 4
}
